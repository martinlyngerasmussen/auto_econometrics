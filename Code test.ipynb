{
 "cells": [
  {
   "cell_type": "code",
   "execution_count": 151,
   "id": "c2a87d8b",
   "metadata": {},
   "outputs": [],
   "source": [
    "import pandas as pd\n",
    "import statsmodels.formula.api as sm\n",
    "from sklearn.linear_model import LinearRegression\n",
    "from sklearn.metrics import r2_score\n",
    "from sklearn.feature_selection import SequentialFeatureSelector\n",
    "from sklearn.model_selection import TimeSeriesSplit"
   ]
  },
  {
   "cell_type": "code",
   "execution_count": 248,
   "id": "c0ca21ed",
   "metadata": {},
   "outputs": [
    {
     "name": "stdout",
     "output_type": "stream",
     "text": [
      "The autoreload extension is already loaded. To reload it, use:\n",
      "  %reload_ext autoreload\n"
     ]
    }
   ],
   "source": [
    "from experimentation import data_preparation\n",
    "from experimentation import regression_OLS\n",
    "\n",
    "%load_ext autoreload\n",
    "%autoreload 2"
   ]
  },
  {
   "cell_type": "code",
   "execution_count": 249,
   "id": "b0d1ee92",
   "metadata": {
    "scrolled": true
   },
   "outputs": [
    {
     "name": "stderr",
     "output_type": "stream",
     "text": [
      "/Users/martinlyngerasmussen/.pyenv/versions/3.10.6/envs/lewagon/lib/python3.10/site-packages/statsmodels/regression/linear_model.py:1918: RuntimeWarning: divide by zero encountered in double_scalars\n",
      "  return np.sqrt(eigvals[0]/eigvals[-1])\n"
     ]
    }
   ],
   "source": [
    "df1 = data_preparation(file_location = \"uk_data.csv\", splits = 2, lags = 1)\n",
    "df2 = regression_OLS(file_location = \"uk_data.csv\", splits = 2, lags = 1, train_share = 0.8, p_cutoff = 1.00)"
   ]
  },
  {
   "cell_type": "code",
   "execution_count": 242,
   "id": "196c12d0",
   "metadata": {},
   "outputs": [],
   "source": [
    "list_ = list(df1.keys())"
   ]
  },
  {
   "cell_type": "code",
   "execution_count": 250,
   "id": "6a521060",
   "metadata": {
    "scrolled": true
   },
   "outputs": [
    {
     "data": {
      "text/plain": [
       "{'split_1_oos_r2': 0.10534681895228104,\n",
       " 'split_1_oos_mae': 0.5057817386693055,\n",
       " 'split_1_oos_mse': 0.3745035362778092,\n",
       " 'split_1_oos_rmse': 0.6119669405105224,\n",
       " 'split_1_oos_mape': inf,\n",
       " 'split_1_summary': <class 'statsmodels.iolib.summary.Summary'>\n",
       " \"\"\"\n",
       "                             OLS Regression Results                            \n",
       " ==============================================================================\n",
       " Dep. Variable:                    gdp   R-squared:                       0.125\n",
       " Model:                            OLS   Adj. R-squared:                  0.071\n",
       " Method:                 Least Squares   F-statistic:                     2.321\n",
       " Date:                Sun, 26 Nov 2023   Prob (F-statistic):             0.0505\n",
       " Time:                        20:34:08   Log-Likelihood:                -74.399\n",
       " No. Observations:                  87   AIC:                             160.8\n",
       " Df Residuals:                      81   BIC:                             175.6\n",
       " Df Model:                           5                                         \n",
       " Covariance Type:            nonrobust                                         \n",
       " =====================================================================================\n",
       "                         coef    std err          t      P>|t|      [0.025      0.975]\n",
       " -------------------------------------------------------------------------------------\n",
       " const                 0.0033      0.073      0.045      0.964      -0.141       0.148\n",
       " retail_sales          0.1075      0.075      1.440      0.154      -0.041       0.256\n",
       " wage_growth           0.0478      0.065      0.730      0.467      -0.082       0.178\n",
       " covid_dummy        1.957e-17   1.62e-17      1.209      0.230   -1.26e-17    5.18e-17\n",
       " gdp_lag1             -0.2076      0.105     -1.973      0.052      -0.417       0.002\n",
       " retail_sales_lag1     0.0548      0.079      0.696      0.488      -0.102       0.212\n",
       " wage_growth_lag1      0.1495      0.065      2.310      0.023       0.021       0.278\n",
       " covid_dummy_lag1           0          0        nan        nan           0           0\n",
       " ==============================================================================\n",
       " Omnibus:                        2.458   Durbin-Watson:                   1.882\n",
       " Prob(Omnibus):                  0.293   Jarque-Bera (JB):                2.203\n",
       " Skew:                          -0.389   Prob(JB):                        0.332\n",
       " Kurtosis:                       2.962   Cond. No.                          inf\n",
       " ==============================================================================\n",
       " \n",
       " Notes:\n",
       " [1] Standard Errors assume that the covariance matrix of the errors is correctly specified.\n",
       " [2] The smallest eigenvalue is      0. This might indicate that there are\n",
       " strong multicollinearity problems or that the design matrix is singular.\n",
       " \"\"\",\n",
       " 'split_2_oos_r2': -0.45963999979911585,\n",
       " 'split_2_oos_mae': 0.5182280538605685,\n",
       " 'split_2_oos_mse': 0.4086915604121533,\n",
       " 'split_2_oos_rmse': 0.6392898876191875,\n",
       " 'split_2_oos_mape': 150.9027774177959,\n",
       " 'split_2_summary': <class 'statsmodels.iolib.summary.Summary'>\n",
       " \"\"\"\n",
       "                             OLS Regression Results                            \n",
       " ==============================================================================\n",
       " Dep. Variable:                    gdp   R-squared:                       0.951\n",
       " Model:                            OLS   Adj. R-squared:                  0.946\n",
       " Method:                 Least Squares   F-statistic:                     214.8\n",
       " Date:                Sun, 26 Nov 2023   Prob (F-statistic):           3.01e-48\n",
       " Time:                        20:34:08   Log-Likelihood:                -78.737\n",
       " No. Observations:                  86   AIC:                             173.5\n",
       " Df Residuals:                      78   BIC:                             193.1\n",
       " Df Model:                           7                                         \n",
       " Covariance Type:            nonrobust                                         \n",
       " =====================================================================================\n",
       "                         coef    std err          t      P>|t|      [0.025      0.975]\n",
       " -------------------------------------------------------------------------------------\n",
       " const                 0.0677      0.082      0.824      0.413      -0.096       0.231\n",
       " retail_sales          0.4821      0.033     14.476      0.000       0.416       0.548\n",
       " wage_growth          -0.0157      0.096     -0.164      0.870      -0.206       0.174\n",
       " covid_dummy          -5.0284      0.723     -6.953      0.000      -6.468      -3.589\n",
       " gdp_lag1              0.0679      0.054      1.248      0.216      -0.040       0.176\n",
       " retail_sales_lag1     0.1880      0.045      4.169      0.000       0.098       0.278\n",
       " wage_growth_lag1      0.0787      0.088      0.893      0.374      -0.097       0.254\n",
       " covid_dummy_lag1    -10.7316      0.986    -10.880      0.000     -12.695      -8.768\n",
       " ==============================================================================\n",
       " Omnibus:                       14.276   Durbin-Watson:                   1.650\n",
       " Prob(Omnibus):                  0.001   Jarque-Bera (JB):               18.533\n",
       " Skew:                           0.775   Prob(JB):                     9.46e-05\n",
       " Kurtosis:                       4.664   Cond. No.                         57.2\n",
       " ==============================================================================\n",
       " \n",
       " Notes:\n",
       " [1] Standard Errors assume that the covariance matrix of the errors is correctly specified.\n",
       " \"\"\"}"
      ]
     },
     "execution_count": 250,
     "metadata": {},
     "output_type": "execute_result"
    }
   ],
   "source": [
    "df2"
   ]
  }
 ],
 "metadata": {
  "kernelspec": {
   "display_name": "Python 3 (ipykernel)",
   "language": "python",
   "name": "python3"
  },
  "language_info": {
   "codemirror_mode": {
    "name": "ipython",
    "version": 3
   },
   "file_extension": ".py",
   "mimetype": "text/x-python",
   "name": "python",
   "nbconvert_exporter": "python",
   "pygments_lexer": "ipython3",
   "version": "3.10.6"
  },
  "toc": {
   "base_numbering": 1,
   "nav_menu": {},
   "number_sections": true,
   "sideBar": true,
   "skip_h1_title": false,
   "title_cell": "Table of Contents",
   "title_sidebar": "Contents",
   "toc_cell": false,
   "toc_position": {},
   "toc_section_display": true,
   "toc_window_display": false
  }
 },
 "nbformat": 4,
 "nbformat_minor": 5
}
