{
 "cells": [
  {
   "cell_type": "code",
   "execution_count": 69,
   "id": "c2a87d8b",
   "metadata": {},
   "outputs": [
    {
     "name": "stdout",
     "output_type": "stream",
     "text": [
      "The autoreload extension is already loaded. To reload it, use:\n",
      "  %reload_ext autoreload\n"
     ]
    }
   ],
   "source": [
    "%load_ext autoreload\n",
    "%autoreload 2\n",
    "\n",
    "import pandas as pd\n",
    "import statsmodels.formula.api as sm\n",
    "from sklearn.linear_model import LinearRegression\n",
    "from sklearn.metrics import r2_score\n",
    "from sklearn.feature_selection import SequentialFeatureSelector\n",
    "from sklearn.model_selection import TimeSeriesSplit\n",
    "import warnings\n",
    "warnings.filterwarnings('ignore')\n",
    "from stargazer.stargazer import Stargazer, LineLocation\n",
    "\n",
    "from experimentation import data_preparation, regression_OLS, full_df"
   ]
  },
  {
   "cell_type": "code",
   "execution_count": 8,
   "id": "d5797ef6",
   "metadata": {},
   "outputs": [],
   "source": [
    "df1 = full_df(file_location = \"uk_data.csv\", lags = 5)\n",
    "df2 = data_preparation(file_location = \"uk_data.csv\", lags = 5, splits = 5, train_share = 0.8)"
   ]
  },
  {
   "cell_type": "code",
   "execution_count": 9,
   "id": "8d838532",
   "metadata": {},
   "outputs": [
    {
     "data": {
      "text/html": [
       "<div>\n",
       "<style scoped>\n",
       "    .dataframe tbody tr th:only-of-type {\n",
       "        vertical-align: middle;\n",
       "    }\n",
       "\n",
       "    .dataframe tbody tr th {\n",
       "        vertical-align: top;\n",
       "    }\n",
       "\n",
       "    .dataframe thead th {\n",
       "        text-align: right;\n",
       "    }\n",
       "</style>\n",
       "<table border=\"1\" class=\"dataframe\">\n",
       "  <thead>\n",
       "    <tr style=\"text-align: right;\">\n",
       "      <th></th>\n",
       "      <th>gdp</th>\n",
       "      <th>retail_sales</th>\n",
       "      <th>wage_growth</th>\n",
       "      <th>gdp_lag1</th>\n",
       "      <th>retail_sales_lag1</th>\n",
       "      <th>wage_growth_lag1</th>\n",
       "      <th>gdp_lag2</th>\n",
       "      <th>retail_sales_lag2</th>\n",
       "      <th>wage_growth_lag2</th>\n",
       "      <th>gdp_lag3</th>\n",
       "      <th>retail_sales_lag3</th>\n",
       "      <th>wage_growth_lag3</th>\n",
       "      <th>gdp_lag4</th>\n",
       "      <th>retail_sales_lag4</th>\n",
       "      <th>wage_growth_lag4</th>\n",
       "      <th>gdp_lag5</th>\n",
       "      <th>retail_sales_lag5</th>\n",
       "      <th>wage_growth_lag5</th>\n",
       "    </tr>\n",
       "    <tr>\n",
       "      <th>date</th>\n",
       "      <th></th>\n",
       "      <th></th>\n",
       "      <th></th>\n",
       "      <th></th>\n",
       "      <th></th>\n",
       "      <th></th>\n",
       "      <th></th>\n",
       "      <th></th>\n",
       "      <th></th>\n",
       "      <th></th>\n",
       "      <th></th>\n",
       "      <th></th>\n",
       "      <th></th>\n",
       "      <th></th>\n",
       "      <th></th>\n",
       "      <th></th>\n",
       "      <th></th>\n",
       "      <th></th>\n",
       "    </tr>\n",
       "  </thead>\n",
       "  <tbody>\n",
       "    <tr>\n",
       "      <th>2008-10-31</th>\n",
       "      <td>-0.235849</td>\n",
       "      <td>-0.977654</td>\n",
       "      <td>0.459770</td>\n",
       "      <td>-1.165501</td>\n",
       "      <td>0.561798</td>\n",
       "      <td>0.000000</td>\n",
       "      <td>-0.348432</td>\n",
       "      <td>0.000000</td>\n",
       "      <td>0.230415</td>\n",
       "      <td>-0.577367</td>\n",
       "      <td>0.281690</td>\n",
       "      <td>0.230947</td>\n",
       "      <td>-0.115340</td>\n",
       "      <td>-2.739726</td>\n",
       "      <td>-0.230415</td>\n",
       "      <td>-0.914286</td>\n",
       "      <td>3.546099</td>\n",
       "      <td>0.462963</td>\n",
       "    </tr>\n",
       "    <tr>\n",
       "      <th>2008-11-30</th>\n",
       "      <td>-1.418440</td>\n",
       "      <td>0.282087</td>\n",
       "      <td>-0.228833</td>\n",
       "      <td>-0.235849</td>\n",
       "      <td>-0.977654</td>\n",
       "      <td>0.459770</td>\n",
       "      <td>-1.165501</td>\n",
       "      <td>0.561798</td>\n",
       "      <td>0.000000</td>\n",
       "      <td>-0.348432</td>\n",
       "      <td>0.000000</td>\n",
       "      <td>0.230415</td>\n",
       "      <td>-0.577367</td>\n",
       "      <td>0.281690</td>\n",
       "      <td>0.230947</td>\n",
       "      <td>-0.115340</td>\n",
       "      <td>-2.739726</td>\n",
       "      <td>-0.230415</td>\n",
       "    </tr>\n",
       "    <tr>\n",
       "      <th>2008-12-31</th>\n",
       "      <td>-0.239808</td>\n",
       "      <td>-0.843882</td>\n",
       "      <td>0.000000</td>\n",
       "      <td>-1.418440</td>\n",
       "      <td>0.282087</td>\n",
       "      <td>-0.228833</td>\n",
       "      <td>-0.235849</td>\n",
       "      <td>-0.977654</td>\n",
       "      <td>0.459770</td>\n",
       "      <td>-1.165501</td>\n",
       "      <td>0.561798</td>\n",
       "      <td>0.000000</td>\n",
       "      <td>-0.348432</td>\n",
       "      <td>0.000000</td>\n",
       "      <td>0.230415</td>\n",
       "      <td>-0.577367</td>\n",
       "      <td>0.281690</td>\n",
       "      <td>0.230947</td>\n",
       "    </tr>\n",
       "    <tr>\n",
       "      <th>2009-01-31</th>\n",
       "      <td>-0.961538</td>\n",
       "      <td>0.992908</td>\n",
       "      <td>-3.440367</td>\n",
       "      <td>-0.239808</td>\n",
       "      <td>-0.843882</td>\n",
       "      <td>0.000000</td>\n",
       "      <td>-1.418440</td>\n",
       "      <td>0.282087</td>\n",
       "      <td>-0.228833</td>\n",
       "      <td>-0.235849</td>\n",
       "      <td>-0.977654</td>\n",
       "      <td>0.459770</td>\n",
       "      <td>-1.165501</td>\n",
       "      <td>0.561798</td>\n",
       "      <td>0.000000</td>\n",
       "      <td>-0.348432</td>\n",
       "      <td>0.000000</td>\n",
       "      <td>0.230415</td>\n",
       "    </tr>\n",
       "    <tr>\n",
       "      <th>2009-02-28</th>\n",
       "      <td>-0.121359</td>\n",
       "      <td>-0.842697</td>\n",
       "      <td>-2.850356</td>\n",
       "      <td>-0.961538</td>\n",
       "      <td>0.992908</td>\n",
       "      <td>-3.440367</td>\n",
       "      <td>-0.239808</td>\n",
       "      <td>-0.843882</td>\n",
       "      <td>0.000000</td>\n",
       "      <td>-1.418440</td>\n",
       "      <td>0.282087</td>\n",
       "      <td>-0.228833</td>\n",
       "      <td>-0.235849</td>\n",
       "      <td>-0.977654</td>\n",
       "      <td>0.459770</td>\n",
       "      <td>-1.165501</td>\n",
       "      <td>0.561798</td>\n",
       "      <td>0.000000</td>\n",
       "    </tr>\n",
       "  </tbody>\n",
       "</table>\n",
       "</div>"
      ],
      "text/plain": [
       "                 gdp  retail_sales  wage_growth  gdp_lag1  retail_sales_lag1  \\\n",
       "date                                                                           \n",
       "2008-10-31 -0.235849     -0.977654     0.459770 -1.165501           0.561798   \n",
       "2008-11-30 -1.418440      0.282087    -0.228833 -0.235849          -0.977654   \n",
       "2008-12-31 -0.239808     -0.843882     0.000000 -1.418440           0.282087   \n",
       "2009-01-31 -0.961538      0.992908    -3.440367 -0.239808          -0.843882   \n",
       "2009-02-28 -0.121359     -0.842697    -2.850356 -0.961538           0.992908   \n",
       "\n",
       "            wage_growth_lag1  gdp_lag2  retail_sales_lag2  wage_growth_lag2  \\\n",
       "date                                                                          \n",
       "2008-10-31          0.000000 -0.348432           0.000000          0.230415   \n",
       "2008-11-30          0.459770 -1.165501           0.561798          0.000000   \n",
       "2008-12-31         -0.228833 -0.235849          -0.977654          0.459770   \n",
       "2009-01-31          0.000000 -1.418440           0.282087         -0.228833   \n",
       "2009-02-28         -3.440367 -0.239808          -0.843882          0.000000   \n",
       "\n",
       "            gdp_lag3  retail_sales_lag3  wage_growth_lag3  gdp_lag4  \\\n",
       "date                                                                  \n",
       "2008-10-31 -0.577367           0.281690          0.230947 -0.115340   \n",
       "2008-11-30 -0.348432           0.000000          0.230415 -0.577367   \n",
       "2008-12-31 -1.165501           0.561798          0.000000 -0.348432   \n",
       "2009-01-31 -0.235849          -0.977654          0.459770 -1.165501   \n",
       "2009-02-28 -1.418440           0.282087         -0.228833 -0.235849   \n",
       "\n",
       "            retail_sales_lag4  wage_growth_lag4  gdp_lag5  retail_sales_lag5  \\\n",
       "date                                                                           \n",
       "2008-10-31          -2.739726         -0.230415 -0.914286           3.546099   \n",
       "2008-11-30           0.281690          0.230947 -0.115340          -2.739726   \n",
       "2008-12-31           0.000000          0.230415 -0.577367           0.281690   \n",
       "2009-01-31           0.561798          0.000000 -0.348432           0.000000   \n",
       "2009-02-28          -0.977654          0.459770 -1.165501           0.561798   \n",
       "\n",
       "            wage_growth_lag5  \n",
       "date                          \n",
       "2008-10-31          0.462963  \n",
       "2008-11-30         -0.230415  \n",
       "2008-12-31          0.230947  \n",
       "2009-01-31          0.230415  \n",
       "2009-02-28          0.000000  "
      ]
     },
     "execution_count": 9,
     "metadata": {},
     "output_type": "execute_result"
    }
   ],
   "source": [
    "df1.head()"
   ]
  },
  {
   "cell_type": "code",
   "execution_count": 25,
   "id": "a4383389",
   "metadata": {},
   "outputs": [
    {
     "data": {
      "text/plain": [
       "18"
      ]
     },
     "execution_count": 25,
     "metadata": {},
     "output_type": "execute_result"
    }
   ],
   "source": [
    "len(df2[\"split_1\"][\"split_1_train\"].columns)"
   ]
  },
  {
   "cell_type": "code",
   "execution_count": 28,
   "id": "ca578fe4",
   "metadata": {},
   "outputs": [
    {
     "data": {
      "text/plain": [
       "0"
      ]
     },
     "execution_count": 28,
     "metadata": {},
     "output_type": "execute_result"
    }
   ],
   "source": [
    "abc = pd.DataFrame()\n",
    "len(abc.columns)"
   ]
  },
  {
   "cell_type": "code",
   "execution_count": 3,
   "id": "b77b5367",
   "metadata": {},
   "outputs": [],
   "source": []
  },
  {
   "cell_type": "code",
   "execution_count": 63,
   "id": "b23ada96",
   "metadata": {
    "scrolled": true
   },
   "outputs": [
    {
     "name": "stdout",
     "output_type": "stream",
     "text": [
      "#####################\n",
      "split_1\n",
      "#####################\n",
      "Full sample columns\n",
      "Index(['gdp', 'wage_growth', 'gdp_lag1', 'wage_growth_lag1', 'gdp_lag2',\n",
      "       'wage_growth_lag2'],\n",
      "      dtype='object')\n",
      "Split columns\n",
      "Index(['wage_growth_lag1', 'wage_growth_lag2'], dtype='object')\n",
      "#####################\n",
      "split_2\n",
      "#####################\n",
      "Full sample columns\n",
      "Index(['const', 'gdp', 'wage_growth', 'gdp_lag1', 'wage_growth_lag1',\n",
      "       'gdp_lag2', 'wage_growth_lag2'],\n",
      "      dtype='object')\n",
      "Split columns\n",
      "Index(['const'], dtype='object')\n",
      "#####################\n",
      "split_3\n",
      "#####################\n",
      "Full sample columns\n",
      "Index(['gdp', 'wage_growth', 'gdp_lag1', 'wage_growth_lag1', 'gdp_lag2',\n",
      "       'wage_growth_lag2'],\n",
      "      dtype='object')\n",
      "Split columns\n",
      "Index(['gdp_lag1'], dtype='object')\n"
     ]
    }
   ],
   "source": [
    "df = regression_OLS(file_location = \"uk_data.csv\", splits = 3, lags = 2, train_share = 0.9, p_cutoff = 0.05)"
   ]
  },
  {
   "cell_type": "code",
   "execution_count": 56,
   "id": "60d031d8",
   "metadata": {},
   "outputs": [
    {
     "data": {
      "text/html": [
       "<table>\n",
       "    <caption>*** OUT OF SAMPLE PERFORMANCE ACROSS SUB-PERIODS ***</caption>\n",
       "    <thead>\n",
       "        <tr>\n",
       "            <th></th>\n",
       "            <th>Sample 1</th>\n",
       "            <th>Sample 2</th>\n",
       "            <th>Sample 3</th>\n",
       "        </tr>\n",
       "    </thead>\n",
       "    <tbody>\n",
       "        <tr>\n",
       "            <td>R2</td>\n",
       "            <td>-0.0168</td>\n",
       "            <td>-0.0977</td>\n",
       "            <td>-0.4114</td>\n",
       "        </tr>\n",
       "        <tr>\n",
       "            <td>Mae</td>\n",
       "            <td>0.3191</td>\n",
       "            <td>0.2749</td>\n",
       "            <td>0.3594</td>\n",
       "        </tr>\n",
       "        <tr>\n",
       "            <td>Mse</td>\n",
       "            <td>0.1567</td>\n",
       "            <td>0.1096</td>\n",
       "            <td>0.2035</td>\n",
       "        </tr>\n",
       "        <tr>\n",
       "            <td>Rmse</td>\n",
       "            <td>0.3958</td>\n",
       "            <td>0.3311</td>\n",
       "            <td>0.4511</td>\n",
       "        </tr>\n",
       "        <tr>\n",
       "            <td>Start Date</td>\n",
       "            <td>30/06/2010</td>\n",
       "            <td>31/07/2016</td>\n",
       "            <td>31/08/2022</td>\n",
       "        </tr>\n",
       "        <tr>\n",
       "            <td>End Date</td>\n",
       "            <td>31/01/2011</td>\n",
       "            <td>28/02/2017</td>\n",
       "            <td>31/03/2023</td>\n",
       "        </tr>\n",
       "    </tbody>\n",
       "</table>"
      ],
      "text/plain": [
       "+------------------------------------------------------+\n",
       "| *** OUT OF SAMPLE PERFORMANCE ACROSS SUB-PERIODS *** |\n",
       "+------------+------------+------------+---------------+\n",
       "|            |   Sample 1 |   Sample 2 |      Sample 3 |\n",
       "+------------+------------+------------+---------------+\n",
       "| R2         |    -0.0168 |    -0.0977 |       -0.4114 |\n",
       "| Mae        |     0.3191 |     0.2749 |        0.3594 |\n",
       "| Mse        |     0.1567 |     0.1096 |        0.2035 |\n",
       "| Rmse       |     0.3958 |     0.3311 |        0.4511 |\n",
       "| Start Date | 30/06/2010 | 31/07/2016 |    31/08/2022 |\n",
       "| End Date   | 31/01/2011 | 28/02/2017 |    31/03/2023 |\n",
       "+------------+------------+------------+---------------+"
      ]
     },
     "execution_count": 56,
     "metadata": {},
     "output_type": "execute_result"
    }
   ],
   "source": [
    "df[0]"
   ]
  },
  {
   "cell_type": "code",
   "execution_count": 58,
   "id": "8f101a61",
   "metadata": {},
   "outputs": [
    {
     "data": {
      "text/plain": [
       "<AxesSubplot:xlabel='date'>"
      ]
     },
     "execution_count": 58,
     "metadata": {},
     "output_type": "execute_result"
    },
    {
     "data": {
      "image/png": "[encoded data removed]",
      "text/plain": [
       "<Figure size 640x480 with 1 Axes>"
      ]
     },
     "metadata": {},
     "output_type": "display_data"
    }
   ],
   "source": [
    "df[1].plot()"
   ]
  },
  {
   "cell_type": "code",
   "execution_count": 59,
   "id": "6129f6ac",
   "metadata": {
    "scrolled": true
   },
   "outputs": [
    {
     "data": {
      "text/html": [
       "<table style=\"text-align:center\"><tr><td colspan=\"4\" style=\"border-bottom: 1px solid black\"></td></tr>\n",
       "<tr><td style=\"text-align:left\"></td><td colspan=\"3\"><em>Dependent variable: gdp</em></td></tr><tr><td style=\"text-align:left\"></td><tr><td></td><td colspan=\"1\">split_1: 31/03/2005 to 31/05/2010</td><td colspan=\"1\">split_2: 30/04/2011 to 30/06/2016</td><td colspan=\"1\">split_3: 31/05/2017 to 31/07/2022</td></tr><tr><td style=\"text-align:left\"></td><td>(1)</td><td>(2)</td><td>(3)</td></tr>\n",
       "<tr><td colspan=\"4\" style=\"border-bottom: 1px solid black\"></td></tr>\n",
       "\n",
       "<tr><td style=\"text-align:left\">const</td><td></td><td>0.165<sup>***</sup></td><td></td></tr>\n",
       "<tr><td style=\"text-align:left\"></td><td></td><td>(0.037)</td><td></td></tr>\n",
       "<tr><td style=\"text-align:left\">gdp_lag1</td><td></td><td></td><td>0.351<sup>**</sup></td></tr>\n",
       "<tr><td style=\"text-align:left\"></td><td></td><td></td><td>(0.140)</td></tr>\n",
       "<tr><td style=\"text-align:left\">wage_growth_lag1</td><td>0.142<sup>***</sup></td><td></td><td></td></tr>\n",
       "<tr><td style=\"text-align:left\"></td><td>(0.032)</td><td></td><td></td></tr>\n",
       "<tr><td style=\"text-align:left\">wage_growth_lag2</td><td>-0.092<sup>*</sup></td><td></td><td></td></tr>\n",
       "<tr><td style=\"text-align:left\"></td><td>(0.050)</td><td></td><td></td></tr>\n",
       "\n",
       "<td colspan=\"4\" style=\"border-bottom: 1px solid black\"></td></tr>\n",
       "<tr><td style=\"text-align: left\">Observations</td><td>63</td><td>63</td><td>63</td></tr><tr><td style=\"text-align: left\">R<sup>2</sup></td><td>0.109</td><td>0.000</td><td>0.123</td></tr><tr><td style=\"text-align: left\">Adjusted R<sup>2</sup></td><td>0.080</td><td>0.000</td><td>0.109</td></tr><tr><td style=\"text-align: left\">Residual Std. Error</td><td>0.588 (df=61)</td><td>0.553 (df=62)</td><td>3.009 (df=62)</td></tr><tr><td style=\"text-align: left\">F Statistic</td><td>13.891<sup>***</sup> (df=2; 61)</td><td>nan<sup>***</sup> (df=0; 62)</td><td>6.336<sup>**</sup> (df=1; 62)</td></tr>\n",
       "<tr><td colspan=\"4\" style=\"border-bottom: 1px solid black\"></td></tr><tr><td style=\"text-align: left\">Note:</td><td colspan=\"3\" style=\"text-align: right\"><sup>*</sup>p&lt;0.1; <sup>**</sup>p&lt;0.05; <sup>***</sup>p&lt;0.01</td></tr></table>"
      ],
      "text/plain": [
       "<stargazer.stargazer.Stargazer at 0x2b99a9d80>"
      ]
     },
     "execution_count": 59,
     "metadata": {},
     "output_type": "execute_result"
    }
   ],
   "source": [
    "df[2]"
   ]
  },
  {
   "cell_type": "code",
   "execution_count": 70,
   "id": "0700aa20",
   "metadata": {},
   "outputs": [
    {
     "data": {
      "text/html": [
       "<div>\n",
       "<style scoped>\n",
       "    .dataframe tbody tr th:only-of-type {\n",
       "        vertical-align: middle;\n",
       "    }\n",
       "\n",
       "    .dataframe tbody tr th {\n",
       "        vertical-align: top;\n",
       "    }\n",
       "\n",
       "    .dataframe thead th {\n",
       "        text-align: right;\n",
       "    }\n",
       "</style>\n",
       "<table border=\"1\" class=\"dataframe\">\n",
       "  <thead>\n",
       "    <tr style=\"text-align: right;\">\n",
       "      <th></th>\n",
       "      <th>const</th>\n",
       "      <th>split_1_y_fitted</th>\n",
       "      <th>split_2_y_fitted</th>\n",
       "      <th>split_3_y_fitted</th>\n",
       "      <th>y_fitted_ave</th>\n",
       "      <th>y</th>\n",
       "    </tr>\n",
       "    <tr>\n",
       "      <th>date</th>\n",
       "      <th></th>\n",
       "      <th></th>\n",
       "      <th></th>\n",
       "      <th></th>\n",
       "      <th></th>\n",
       "      <th></th>\n",
       "    </tr>\n",
       "  </thead>\n",
       "  <tbody>\n",
       "    <tr>\n",
       "      <th>2005-07-31</th>\n",
       "      <td>1.0</td>\n",
       "      <td>-0.024390</td>\n",
       "      <td>0.164948</td>\n",
       "      <td>0.216851</td>\n",
       "      <td>0.119136</td>\n",
       "      <td>1.0</td>\n",
       "    </tr>\n",
       "    <tr>\n",
       "      <th>2005-08-31</th>\n",
       "      <td>1.0</td>\n",
       "      <td>0.112336</td>\n",
       "      <td>0.164948</td>\n",
       "      <td>0.129313</td>\n",
       "      <td>0.135532</td>\n",
       "      <td>1.0</td>\n",
       "    </tr>\n",
       "    <tr>\n",
       "      <th>2005-09-30</th>\n",
       "      <td>1.0</td>\n",
       "      <td>0.038479</td>\n",
       "      <td>0.164948</td>\n",
       "      <td>0.000000</td>\n",
       "      <td>0.067809</td>\n",
       "      <td>1.0</td>\n",
       "    </tr>\n",
       "    <tr>\n",
       "      <th>2005-10-31</th>\n",
       "      <td>1.0</td>\n",
       "      <td>-0.035542</td>\n",
       "      <td>0.164948</td>\n",
       "      <td>0.214731</td>\n",
       "      <td>0.114712</td>\n",
       "      <td>1.0</td>\n",
       "    </tr>\n",
       "    <tr>\n",
       "      <th>2005-11-30</th>\n",
       "      <td>1.0</td>\n",
       "      <td>0.012820</td>\n",
       "      <td>0.164948</td>\n",
       "      <td>-0.128056</td>\n",
       "      <td>0.016571</td>\n",
       "      <td>1.0</td>\n",
       "    </tr>\n",
       "    <tr>\n",
       "      <th>...</th>\n",
       "      <td>...</td>\n",
       "      <td>...</td>\n",
       "      <td>...</td>\n",
       "      <td>...</td>\n",
       "      <td>...</td>\n",
       "      <td>...</td>\n",
       "    </tr>\n",
       "    <tr>\n",
       "      <th>2022-11-30</th>\n",
       "      <td>1.0</td>\n",
       "      <td>0.084700</td>\n",
       "      <td>0.164948</td>\n",
       "      <td>0.207665</td>\n",
       "      <td>0.152437</td>\n",
       "      <td>1.0</td>\n",
       "    </tr>\n",
       "    <tr>\n",
       "      <th>2022-12-31</th>\n",
       "      <td>1.0</td>\n",
       "      <td>-0.006236</td>\n",
       "      <td>0.164948</td>\n",
       "      <td>0.034407</td>\n",
       "      <td>0.064373</td>\n",
       "      <td>1.0</td>\n",
       "    </tr>\n",
       "    <tr>\n",
       "      <th>2023-01-31</th>\n",
       "      <td>1.0</td>\n",
       "      <td>0.023567</td>\n",
       "      <td>0.164948</td>\n",
       "      <td>-0.103121</td>\n",
       "      <td>0.028464</td>\n",
       "      <td>1.0</td>\n",
       "    </tr>\n",
       "    <tr>\n",
       "      <th>2023-02-28</th>\n",
       "      <td>1.0</td>\n",
       "      <td>0.023456</td>\n",
       "      <td>0.164948</td>\n",
       "      <td>0.172375</td>\n",
       "      <td>0.120259</td>\n",
       "      <td>1.0</td>\n",
       "    </tr>\n",
       "    <tr>\n",
       "      <th>2023-03-31</th>\n",
       "      <td>1.0</td>\n",
       "      <td>0.068162</td>\n",
       "      <td>0.164948</td>\n",
       "      <td>0.068613</td>\n",
       "      <td>0.100574</td>\n",
       "      <td>1.0</td>\n",
       "    </tr>\n",
       "  </tbody>\n",
       "</table>\n",
       "<p>213 rows × 6 columns</p>\n",
       "</div>"
      ],
      "text/plain": [
       "            const  split_1_y_fitted  split_2_y_fitted  split_3_y_fitted  \\\n",
       "date                                                                      \n",
       "2005-07-31    1.0         -0.024390          0.164948          0.216851   \n",
       "2005-08-31    1.0          0.112336          0.164948          0.129313   \n",
       "2005-09-30    1.0          0.038479          0.164948          0.000000   \n",
       "2005-10-31    1.0         -0.035542          0.164948          0.214731   \n",
       "2005-11-30    1.0          0.012820          0.164948         -0.128056   \n",
       "...           ...               ...               ...               ...   \n",
       "2022-11-30    1.0          0.084700          0.164948          0.207665   \n",
       "2022-12-31    1.0         -0.006236          0.164948          0.034407   \n",
       "2023-01-31    1.0          0.023567          0.164948         -0.103121   \n",
       "2023-02-28    1.0          0.023456          0.164948          0.172375   \n",
       "2023-03-31    1.0          0.068162          0.164948          0.068613   \n",
       "\n",
       "            y_fitted_ave    y  \n",
       "date                           \n",
       "2005-07-31      0.119136  1.0  \n",
       "2005-08-31      0.135532  1.0  \n",
       "2005-09-30      0.067809  1.0  \n",
       "2005-10-31      0.114712  1.0  \n",
       "2005-11-30      0.016571  1.0  \n",
       "...                  ...  ...  \n",
       "2022-11-30      0.152437  1.0  \n",
       "2022-12-31      0.064373  1.0  \n",
       "2023-01-31      0.028464  1.0  \n",
       "2023-02-28      0.120259  1.0  \n",
       "2023-03-31      0.100574  1.0  \n",
       "\n",
       "[213 rows x 6 columns]"
      ]
     },
     "execution_count": 70,
     "metadata": {},
     "output_type": "execute_result"
    }
   ],
   "source": [
    "df[3]"
   ]
  },
  {
   "cell_type": "code",
   "execution_count": 5,
   "id": "6a521060",
   "metadata": {
    "scrolled": true
   },
   "outputs": [
    {
     "name": "stdout",
     "output_type": "stream",
     "text": [
      "+------------------------------------------------------+\n",
      "| *** OUT OF SAMPLE PERFORMANCE ACROSS SUB-PERIODS *** |\n",
      "+-----------------+-----------------+------------------+\n",
      "|                 |        Sample 1 |         Sample 2 |\n",
      "+-----------------+-----------------+------------------+\n",
      "| R2              |         -1.3301 |          -0.6487 |\n",
      "| Mae             |          0.3605 |           0.4837 |\n",
      "| Mse             |          0.1646 |           0.4086 |\n",
      "| Rmse            |          0.4057 |           0.6392 |\n",
      "| Start Date      |      30/04/2013 |       31/05/2022 |\n",
      "| End Date        |      28/02/2014 |       31/03/2023 |\n",
      "+-----------------+-----------------+------------------+\n",
      "                   y  split_1_y_fitted  split_2_y_fitted\n",
      "date                                                    \n",
      "2005-01-31  0.876095               NaN               NaN\n",
      "2005-02-28  0.000000               NaN               NaN\n",
      "2005-03-31 -0.372208         -0.340843               NaN\n",
      "2005-04-30  1.245330          0.217620               NaN\n",
      "2005-05-31 -0.369004          0.128836               NaN\n",
      "...              ...               ...               ...\n",
      "2022-11-30  0.097943               NaN               NaN\n",
      "2022-12-31 -0.293542               NaN               NaN\n",
      "2023-01-31  0.490677               NaN               NaN\n",
      "2023-02-28  0.195312               NaN               NaN\n",
      "2023-03-31 -0.292398               NaN               NaN\n",
      "\n",
      "[219 rows x 3 columns]\n",
      "            y_actual  split_1_y_fitted  split_2_y_fitted\n",
      "date                                                    \n",
      "2005-01-31  0.876095               NaN               NaN\n",
      "2005-02-28  0.000000               NaN               NaN\n",
      "2005-03-31 -0.372208         -0.340843               NaN\n",
      "2005-04-30  1.245330          0.217620               NaN\n",
      "2005-05-31 -0.369004          0.128836               NaN\n",
      "...              ...               ...               ...\n",
      "2022-11-30  0.097943               NaN               NaN\n",
      "2022-12-31 -0.293542               NaN               NaN\n",
      "2023-01-31  0.490677               NaN               NaN\n",
      "2023-02-28  0.195312               NaN               NaN\n",
      "2023-03-31 -0.292398               NaN               NaN\n",
      "\n",
      "[219 rows x 3 columns]\n"
     ]
    }
   ],
   "source": [
    "print(df[0])\n",
    "print(df[1])\n",
    "df[2]\n",
    "print(df[3])\n"
   ]
  },
  {
   "cell_type": "code",
   "execution_count": 10,
   "id": "629c73f0",
   "metadata": {},
   "outputs": [
    {
     "data": {
      "image/png": "[encoded data removed]",
      "text/plain": [
       "<Figure size 640x480 with 1 Axes>"
      ]
     },
     "metadata": {},
     "output_type": "display_data"
    }
   ],
   "source": [
    "\n",
    "df[3].plot();\n"
   ]
  }
 ],
 "metadata": {
  "kernelspec": {
   "display_name": "Python 3 (ipykernel)",
   "language": "python",
   "name": "python3"
  },
  "language_info": {
   "codemirror_mode": {
    "name": "ipython",
    "version": 3
   },
   "file_extension": ".py",
   "mimetype": "text/x-python",
   "name": "python",
   "nbconvert_exporter": "python",
   "pygments_lexer": "ipython3",
   "version": "3.10.6"
  },
  "toc": {
   "base_numbering": 1,
   "nav_menu": {},
   "number_sections": true,
   "sideBar": true,
   "skip_h1_title": false,
   "title_cell": "Table of Contents",
   "title_sidebar": "Contents",
   "toc_cell": false,
   "toc_position": {},
   "toc_section_display": true,
   "toc_window_display": false
  }
 },
 "nbformat": 4,
 "nbformat_minor": 5
}
