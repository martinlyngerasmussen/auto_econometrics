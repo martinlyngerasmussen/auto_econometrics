{
 "cells": [
  {
   "cell_type": "code",
   "execution_count": 212,
   "id": "c2a87d8b",
   "metadata": {},
   "outputs": [],
   "source": [
    "import pandas as pd\n",
    "import statsmodels.formula.api as sm\n",
    "from sklearn.linear_model import LinearRegression\n",
    "from sklearn.metrics import r2_score\n",
    "from sklearn.feature_selection import SequentialFeatureSelector\n",
    "from sklearn.model_selection import TimeSeriesSplit\n",
    "import warnings\n",
    "warnings.filterwarnings('ignore')\n",
    "from stargazer.stargazer import Stargazer, LineLocation\n"
   ]
  },
  {
   "cell_type": "code",
   "execution_count": 213,
   "id": "c0ca21ed",
   "metadata": {},
   "outputs": [
    {
     "name": "stdout",
     "output_type": "stream",
     "text": [
      "The autoreload extension is already loaded. To reload it, use:\n",
      "  %reload_ext autoreload\n"
     ]
    }
   ],
   "source": [
    "from experimentation import data_preparation\n",
    "from experimentation import regression_OLS\n",
    "\n",
    "%load_ext autoreload\n",
    "%autoreload 2"
   ]
  },
  {
   "cell_type": "code",
   "execution_count": 219,
   "id": "b23ada96",
   "metadata": {},
   "outputs": [],
   "source": [
    "df = regression_OLS(file_location = \"uk_data.csv\", splits = 2, lags = 2, train_share = 0.9, p_cutoff = 0.05)"
   ]
  },
  {
   "cell_type": "code",
   "execution_count": 220,
   "id": "6a521060",
   "metadata": {
    "scrolled": true
   },
   "outputs": [
    {
     "name": "stdout",
     "output_type": "stream",
     "text": [
      "+------------------------------------------------------+\n",
      "| *** OUT OF SAMPLE PERFORMANCE ACROSS SUB-PERIODS *** |\n",
      "+-----------------+-----------------+------------------+\n",
      "|                 |        Sample 1 |         Sample 2 |\n",
      "+-----------------+-----------------+------------------+\n",
      "| R2              |         -1.3301 |          -0.6487 |\n",
      "| Mae             |          0.3605 |           0.4837 |\n",
      "| Mse             |          0.1646 |           0.4086 |\n",
      "| Rmse            |          0.4057 |           0.6392 |\n",
      "| Start Date      |      30/04/2013 |       31/05/2022 |\n",
      "| End Date        |      28/02/2014 |       31/03/2023 |\n",
      "+-----------------+-----------------+------------------+\n",
      "                   y  split_1_y_fitted  split_2_y_fitted\n",
      "date                                                    \n",
      "2005-01-31  0.876095               NaN               NaN\n",
      "2005-02-28  0.000000               NaN               NaN\n",
      "2005-03-31 -0.372208         -0.340843               NaN\n",
      "2005-04-30  1.245330          0.217620               NaN\n",
      "2005-05-31 -0.369004          0.128836               NaN\n",
      "...              ...               ...               ...\n",
      "2022-11-30  0.097943               NaN               NaN\n",
      "2022-12-31 -0.293542               NaN               NaN\n",
      "2023-01-31  0.490677               NaN               NaN\n",
      "2023-02-28  0.195312               NaN               NaN\n",
      "2023-03-31 -0.292398               NaN               NaN\n",
      "\n",
      "[219 rows x 3 columns]\n"
     ]
    },
    {
     "data": {
      "text/html": [
       "<table style=\"text-align:center\"><tr><td colspan=\"3\" style=\"border-bottom: 1px solid black\"></td></tr>\n",
       "<tr><td style=\"text-align:left\"></td><td colspan=\"2\"><em>Dependent variable: gdp</em></td></tr><tr><td style=\"text-align:left\"></td><tr><td></td><td colspan=\"1\">split_1: 31/03/2005 to 31/03/2013</td><td colspan=\"1\">split_2: 31/05/2014 to 30/04/2022</td></tr><tr><td style=\"text-align:left\"></td><td>(1)</td><td>(2)</td></tr>\n",
       "<tr><td colspan=\"3\" style=\"border-bottom: 1px solid black\"></td></tr>\n",
       "\n",
       "<tr><td style=\"text-align:left\">const</td><td></td><td>0.438<sup>**</sup></td></tr>\n",
       "<tr><td style=\"text-align:left\"></td><td></td><td>(0.201)</td></tr>\n",
       "<tr><td style=\"text-align:left\">covid_dummy</td><td></td><td>-8.008<sup>***</sup></td></tr>\n",
       "<tr><td style=\"text-align:left\"></td><td></td><td>(0.201)</td></tr>\n",
       "<tr><td style=\"text-align:left\">covid_dummy_lag1</td><td></td><td>-20.050<sup>***</sup></td></tr>\n",
       "<tr><td style=\"text-align:left\"></td><td></td><td>(0.201)</td></tr>\n",
       "<tr><td style=\"text-align:left\">covid_dummy_lag2</td><td>0.000<sup>***</sup></td><td>1.707<sup>***</sup></td></tr>\n",
       "<tr><td style=\"text-align:left\"></td><td>(0.000)</td><td>(0.201)</td></tr>\n",
       "<tr><td style=\"text-align:left\">wage_growth_lag1</td><td>0.161<sup>***</sup></td><td></td></tr>\n",
       "<tr><td style=\"text-align:left\"></td><td>(0.036)</td><td></td></tr>\n",
       "\n",
       "<td colspan=\"3\" style=\"border-bottom: 1px solid black\"></td></tr>\n",
       "<tr><td style=\"text-align: left\">Observations</td><td>97</td><td>96</td></tr><tr><td style=\"text-align: left\">R<sup>2</sup></td><td>0.059</td><td>0.721</td></tr><tr><td style=\"text-align: left\">Adjusted R<sup>2</sup></td><td>0.049</td><td>0.712</td></tr><tr><td style=\"text-align: left\">Residual Std. Error</td><td>0.637 (df=96)</td><td>1.393 (df=92)</td></tr><tr><td style=\"text-align: left\">F Statistic</td><td>19.658<sup>***</sup> (df=1; 96)</td><td>1914.880<sup>***</sup> (df=3; 92)</td></tr>\n",
       "<tr><td colspan=\"3\" style=\"border-bottom: 1px solid black\"></td></tr><tr><td style=\"text-align: left\">Note:</td><td colspan=\"2\" style=\"text-align: right\"><sup>*</sup>p&lt;0.1; <sup>**</sup>p&lt;0.05; <sup>***</sup>p&lt;0.01</td></tr></table>"
      ],
      "text/plain": [
       "<stargazer.stargazer.Stargazer at 0x29db210f0>"
      ]
     },
     "execution_count": 220,
     "metadata": {},
     "output_type": "execute_result"
    }
   ],
   "source": [
    "print(df[0])\n",
    "print(df[1])\n",
    "df[2]"
   ]
  },
  {
   "cell_type": "code",
   "execution_count": 216,
   "id": "787287eb",
   "metadata": {
    "scrolled": false
   },
   "outputs": [
    {
     "ename": "AttributeError",
     "evalue": "plot",
     "output_type": "error",
     "traceback": [
      "\u001b[0;31m---------------------------------------------------------------------------\u001b[0m",
      "\u001b[0;31mAttributeError\u001b[0m                            Traceback (most recent call last)",
      "Cell \u001b[0;32mIn [216], line 1\u001b[0m\n\u001b[0;32m----> 1\u001b[0m \u001b[43mdf3\u001b[49m\u001b[38;5;241;43m.\u001b[39;49m\u001b[43mplot\u001b[49m()\n",
      "File \u001b[0;32m~/.pyenv/versions/3.10.6/envs/lewagon/lib/python3.10/site-packages/prettytable/prettytable.py:311\u001b[0m, in \u001b[0;36mPrettyTable.__getattr__\u001b[0;34m(self, name)\u001b[0m\n\u001b[1;32m    309\u001b[0m         \u001b[38;5;28;01mreturn\u001b[39;00m \u001b[38;5;241m0\u001b[39m\n\u001b[1;32m    310\u001b[0m \u001b[38;5;28;01melse\u001b[39;00m:\n\u001b[0;32m--> 311\u001b[0m     \u001b[38;5;28;01mraise\u001b[39;00m \u001b[38;5;167;01mAttributeError\u001b[39;00m(name)\n",
      "\u001b[0;31mAttributeError\u001b[0m: plot"
     ]
    }
   ],
   "source": [
    "max(y_test.index)\n",
    "df3.plot()"
   ]
  },
  {
   "cell_type": "code",
   "execution_count": 17,
   "id": "673d23c1",
   "metadata": {},
   "outputs": [
    {
     "name": "stderr",
     "output_type": "stream",
     "text": [
      "/Users/martinlyngerasmussen/.pyenv/versions/3.10.6/envs/lewagon/lib/python3.10/site-packages/statsmodels/base/model.py:1871: ValueWarning: covariance of constraints does not have full rank. The number of constraints is 3, but rank is 1\n",
      "  warnings.warn('covariance of constraints does not have full '\n"
     ]
    },
    {
     "ename": "AttributeError",
     "evalue": "'Summary' object has no attribute 'rsquared_adj'",
     "output_type": "error",
     "traceback": [
      "\u001b[0;31m---------------------------------------------------------------------------\u001b[0m",
      "\u001b[0;31mAttributeError\u001b[0m                            Traceback (most recent call last)",
      "Cell \u001b[0;32mIn [17], line 1\u001b[0m\n\u001b[0;32m----> 1\u001b[0m df \u001b[38;5;241m=\u001b[39m \u001b[43mcreate_summary_table\u001b[49m\u001b[43m(\u001b[49m\u001b[43mfile_location\u001b[49m\u001b[43m \u001b[49m\u001b[38;5;241;43m=\u001b[39;49m\u001b[43m \u001b[49m\u001b[38;5;124;43m\"\u001b[39;49m\u001b[38;5;124;43muk_data.csv\u001b[39;49m\u001b[38;5;124;43m\"\u001b[39;49m\u001b[43m,\u001b[49m\u001b[43m \u001b[49m\u001b[43msplits\u001b[49m\u001b[43m \u001b[49m\u001b[38;5;241;43m=\u001b[39;49m\u001b[43m \u001b[49m\u001b[38;5;241;43m1\u001b[39;49m\u001b[43m,\u001b[49m\u001b[43m \u001b[49m\u001b[43mlags\u001b[49m\u001b[43m \u001b[49m\u001b[38;5;241;43m=\u001b[39;49m\u001b[43m \u001b[49m\u001b[38;5;241;43m2\u001b[39;49m\u001b[43m,\u001b[49m\u001b[43m \u001b[49m\u001b[43mtrain_share\u001b[49m\u001b[43m \u001b[49m\u001b[38;5;241;43m=\u001b[39;49m\u001b[43m \u001b[49m\u001b[38;5;241;43m0.9\u001b[39;49m\u001b[43m,\u001b[49m\u001b[43m \u001b[49m\u001b[43mp_cutoff\u001b[49m\u001b[43m \u001b[49m\u001b[38;5;241;43m=\u001b[39;49m\u001b[43m \u001b[49m\u001b[38;5;241;43m0.05\u001b[39;49m\u001b[43m)\u001b[49m\n",
      "File \u001b[0;32m~/auto_econometrics/experimentation.py:220\u001b[0m, in \u001b[0;36mcreate_summary_table\u001b[0;34m(file_location, lags, splits, train_share, p_cutoff)\u001b[0m\n\u001b[1;32m    217\u001b[0m model_summary \u001b[38;5;241m=\u001b[39m results_dict[split]\n\u001b[1;32m    219\u001b[0m \u001b[38;5;66;03m# In-sample results: Extract adjusted R-squared and model parameters\u001b[39;00m\n\u001b[0;32m--> 220\u001b[0m adj_r2 \u001b[38;5;241m=\u001b[39m \u001b[43mmodel_summary\u001b[49m\u001b[38;5;241;43m.\u001b[39;49m\u001b[43mrsquared_adj\u001b[49m\n\u001b[1;32m    221\u001b[0m params \u001b[38;5;241m=\u001b[39m model_summary\u001b[38;5;241m.\u001b[39mparams\n\u001b[1;32m    222\u001b[0m pvalues \u001b[38;5;241m=\u001b[39m model_summary\u001b[38;5;241m.\u001b[39mpvalues\n",
      "\u001b[0;31mAttributeError\u001b[0m: 'Summary' object has no attribute 'rsquared_adj'"
     ]
    }
   ],
   "source": [
    "df = create_summary_table(file_location = \"uk_data.csv\", splits = 1, lags = 2, train_share = 0.9, p_cutoff = 0.05)"
   ]
  }
 ],
 "metadata": {
  "kernelspec": {
   "display_name": "Python 3 (ipykernel)",
   "language": "python",
   "name": "python3"
  },
  "language_info": {
   "codemirror_mode": {
    "name": "ipython",
    "version": 3
   },
   "file_extension": ".py",
   "mimetype": "text/x-python",
   "name": "python",
   "nbconvert_exporter": "python",
   "pygments_lexer": "ipython3",
   "version": "3.10.6"
  },
  "toc": {
   "base_numbering": 1,
   "nav_menu": {},
   "number_sections": true,
   "sideBar": true,
   "skip_h1_title": false,
   "title_cell": "Table of Contents",
   "title_sidebar": "Contents",
   "toc_cell": false,
   "toc_position": {},
   "toc_section_display": true,
   "toc_window_display": false
  }
 },
 "nbformat": 4,
 "nbformat_minor": 5
}
