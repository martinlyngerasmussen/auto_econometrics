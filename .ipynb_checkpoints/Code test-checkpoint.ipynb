{
 "cells": [
  {
   "cell_type": "code",
   "execution_count": 94,
   "id": "c2a87d8b",
   "metadata": {},
   "outputs": [],
   "source": [
    "import pandas as pd\n",
    "import statsmodels.formula.api as sm\n",
    "from sklearn.linear_model import LinearRegression\n",
    "from sklearn.metrics import r2_score\n",
    "from sklearn.feature_selection import SequentialFeatureSelector\n",
    "from sklearn.model_selection import TimeSeriesSplit"
   ]
  },
  {
   "cell_type": "code",
   "execution_count": 183,
   "id": "c0ca21ed",
   "metadata": {},
   "outputs": [
    {
     "name": "stdout",
     "output_type": "stream",
     "text": [
      "The autoreload extension is already loaded. To reload it, use:\n",
      "  %reload_ext autoreload\n"
     ]
    }
   ],
   "source": [
    "from experimentation import data_preparation\n",
    "from experimentation import regression_OLS\n",
    "\n",
    "%load_ext autoreload\n",
    "%autoreload 2"
   ]
  },
  {
   "cell_type": "code",
   "execution_count": 184,
   "id": "b0d1ee92",
   "metadata": {
    "scrolled": true
   },
   "outputs": [
    {
     "name": "stderr",
     "output_type": "stream",
     "text": [
      "/Users/martinlyngerasmussen/.pyenv/versions/3.10.6/envs/lewagon/lib/python3.10/site-packages/statsmodels/regression/linear_model.py:1738: RuntimeWarning: invalid value encountered in double_scalars\n",
      "  return 1 - self.ssr/self.uncentered_tss\n",
      "/Users/martinlyngerasmussen/.pyenv/versions/3.10.6/envs/lewagon/lib/python3.10/site-packages/statsmodels/regression/linear_model.py:1918: RuntimeWarning: invalid value encountered in double_scalars\n",
      "  return np.sqrt(eigvals[0]/eigvals[-1])\n",
      "/Users/martinlyngerasmussen/.pyenv/versions/3.10.6/envs/lewagon/lib/python3.10/site-packages/statsmodels/base/model.py:1871: ValueWarning: covariance of constraints does not have full rank. The number of constraints is 1, but rank is 0\n",
      "  warnings.warn('covariance of constraints does not have full '\n",
      "/Users/martinlyngerasmussen/.pyenv/versions/3.10.6/envs/lewagon/lib/python3.10/site-packages/statsmodels/base/model.py:1900: RuntimeWarning: invalid value encountered in divide\n",
      "  F /= J\n",
      "/Users/martinlyngerasmussen/.pyenv/versions/3.10.6/envs/lewagon/lib/python3.10/site-packages/statsmodels/regression/linear_model.py:1738: RuntimeWarning: invalid value encountered in double_scalars\n",
      "  return 1 - self.ssr/self.uncentered_tss\n",
      "/Users/martinlyngerasmussen/.pyenv/versions/3.10.6/envs/lewagon/lib/python3.10/site-packages/statsmodels/regression/linear_model.py:1918: RuntimeWarning: divide by zero encountered in double_scalars\n",
      "  return np.sqrt(eigvals[0]/eigvals[-1])\n",
      "/Users/martinlyngerasmussen/.pyenv/versions/3.10.6/envs/lewagon/lib/python3.10/site-packages/statsmodels/base/model.py:1871: ValueWarning: covariance of constraints does not have full rank. The number of constraints is 2, but rank is 0\n",
      "  warnings.warn('covariance of constraints does not have full '\n",
      "/Users/martinlyngerasmussen/.pyenv/versions/3.10.6/envs/lewagon/lib/python3.10/site-packages/statsmodels/base/model.py:1900: RuntimeWarning: invalid value encountered in divide\n",
      "  F /= J\n",
      "/Users/martinlyngerasmussen/.pyenv/versions/3.10.6/envs/lewagon/lib/python3.10/site-packages/statsmodels/base/model.py:1871: ValueWarning: covariance of constraints does not have full rank. The number of constraints is 3, but rank is 2\n",
      "  warnings.warn('covariance of constraints does not have full '\n"
     ]
    }
   ],
   "source": [
    "df2 = regression_OLS(file_location = \"uk_data.csv\", splits = 3, lags = 1, train_share = 0.8, p_cutoff = 0.05)"
   ]
  },
  {
   "cell_type": "code",
   "execution_count": 185,
   "id": "196c12d0",
   "metadata": {},
   "outputs": [],
   "source": [
    "list_ = list(df1.keys())"
   ]
  },
  {
   "cell_type": "code",
   "execution_count": 186,
   "id": "afe9efc1",
   "metadata": {},
   "outputs": [
    {
     "data": {
      "text/plain": [
       "({'split_1_summary': <class 'statsmodels.iolib.summary.Summary'>\n",
       "  \"\"\"\n",
       "                                   OLS Regression Results                                \n",
       "  =======================================================================================\n",
       "  Dep. Variable:                    gdp   R-squared (uncentered):                   0.000\n",
       "  Model:                            OLS   Adj. R-squared (uncentered):              0.000\n",
       "  Method:                 Least Squares   F-statistic:                                nan\n",
       "  Date:                Mon, 27 Nov 2023   Prob (F-statistic):                         nan\n",
       "  Time:                        21:30:56   Log-Likelihood:                         -50.726\n",
       "  No. Observations:                  57   AIC:                                      101.5\n",
       "  Df Residuals:                      57   BIC:                                      101.5\n",
       "  Df Model:                           0                                                  \n",
       "  Covariance Type:                  HAC                                                  \n",
       "  ====================================================================================\n",
       "                         coef    std err          z      P>|z|      [0.025      0.975]\n",
       "  ------------------------------------------------------------------------------------\n",
       "  covid_dummy_lag1          0          0        nan        nan           0           0\n",
       "  ==============================================================================\n",
       "  Omnibus:                        1.721   Durbin-Watson:                   2.274\n",
       "  Prob(Omnibus):                  0.423   Jarque-Bera (JB):                1.671\n",
       "  Skew:                          -0.392   Prob(JB):                        0.434\n",
       "  Kurtosis:                       2.700   Cond. No.                          nan\n",
       "  ==============================================================================\n",
       "  \n",
       "  Notes:\n",
       "  [1] R² is computed without centering (uncentered) since the model does not contain a constant.\n",
       "  [2] Standard Errors are heteroscedasticity and autocorrelation robust (HAC) using 4 lags and without small sample correction\n",
       "  [3] The smallest eigenvalue is      0. This might indicate that there are\n",
       "  strong multicollinearity problems or that the design matrix is singular.\n",
       "  \"\"\",\n",
       "  'split_1_oos_r2': -0.1239601351233921,\n",
       "  'split_1_oos_mae': 0.44875321739999996,\n",
       "  'split_1_oos_mse': 0.3421496841356847,\n",
       "  'split_1_oos_rmse': 0.5849356239242782,\n",
       "  'split_1_oos_mape': 100.0,\n",
       "  'split_2_summary': <class 'statsmodels.iolib.summary.Summary'>\n",
       "  \"\"\"\n",
       "                              OLS Regression Results                            \n",
       "  ==============================================================================\n",
       "  Dep. Variable:                    gdp   R-squared:                       0.000\n",
       "  Model:                            OLS   Adj. R-squared:                  0.000\n",
       "  Method:                 Least Squares   F-statistic:                       nan\n",
       "  Date:                Mon, 27 Nov 2023   Prob (F-statistic):                nan\n",
       "  Time:                        21:30:56   Log-Likelihood:                -48.873\n",
       "  No. Observations:                  57   AIC:                             99.75\n",
       "  Df Residuals:                      56   BIC:                             101.8\n",
       "  Df Model:                           0                                         \n",
       "  Covariance Type:                  HAC                                         \n",
       "  ====================================================================================\n",
       "                         coef    std err          z      P>|z|      [0.025      0.975]\n",
       "  ------------------------------------------------------------------------------------\n",
       "  const                0.1639      0.040      4.049      0.000       0.085       0.243\n",
       "  covid_dummy               0          0        nan        nan           0           0\n",
       "  covid_dummy_lag1          0          0        nan        nan           0           0\n",
       "  ==============================================================================\n",
       "  Omnibus:                        2.693   Durbin-Watson:                   2.938\n",
       "  Prob(Omnibus):                  0.260   Jarque-Bera (JB):                1.818\n",
       "  Skew:                          -0.288   Prob(JB):                        0.403\n",
       "  Kurtosis:                       3.659   Cond. No.                          inf\n",
       "  ==============================================================================\n",
       "  \n",
       "  Notes:\n",
       "  [1] Standard Errors are heteroscedasticity and autocorrelation robust (HAC) using 4 lags and without small sample correction\n",
       "  [2] The smallest eigenvalue is      0. This might indicate that there are\n",
       "  strong multicollinearity problems or that the design matrix is singular.\n",
       "  \"\"\",\n",
       "  'split_2_oos_r2': -0.04611811812177535,\n",
       "  'split_2_oos_mae': 0.2500255102105263,\n",
       "  'split_2_oos_mse': 0.08881541395300878,\n",
       "  'split_2_oos_rmse': 0.2980191503125408,\n",
       "  'split_2_oos_mape': inf,\n",
       "  'split_3_summary': <class 'statsmodels.iolib.summary.Summary'>\n",
       "  \"\"\"\n",
       "                                   OLS Regression Results                                \n",
       "  =======================================================================================\n",
       "  Dep. Variable:                    gdp   R-squared (uncentered):                   0.826\n",
       "  Model:                            OLS   Adj. R-squared (uncentered):              0.816\n",
       "  Method:                 Least Squares   F-statistic:                              41.32\n",
       "  Date:                Mon, 27 Nov 2023   Prob (F-statistic):                    1.30e-11\n",
       "  Time:                        21:30:56   Log-Likelihood:                         -99.939\n",
       "  No. Observations:                  57   AIC:                                      205.9\n",
       "  Df Residuals:                      54   BIC:                                      212.0\n",
       "  Df Model:                           3                                                  \n",
       "  Covariance Type:                  HAC                                                  \n",
       "  =====================================================================================\n",
       "                          coef    std err          z      P>|z|      [0.025      0.975]\n",
       "  -------------------------------------------------------------------------------------\n",
       "  retail_sales          0.7048      0.120      5.893      0.000       0.470       0.939\n",
       "  covid_dummy          -3.7096      0.654     -5.672      0.000      -4.992      -2.428\n",
       "  retail_sales_lag1     0.2867      0.057      5.066      0.000       0.176       0.398\n",
       "  ==============================================================================\n",
       "  Omnibus:                       57.305   Durbin-Watson:                   1.495\n",
       "  Prob(Omnibus):                  0.000   Jarque-Bera (JB):              436.446\n",
       "  Skew:                          -2.571   Prob(JB):                     1.69e-95\n",
       "  Kurtosis:                      15.543   Cond. No.                         29.9\n",
       "  ==============================================================================\n",
       "  \n",
       "  Notes:\n",
       "  [1] R² is computed without centering (uncentered) since the model does not contain a constant.\n",
       "  [2] Standard Errors are heteroscedasticity and autocorrelation robust (HAC) using 4 lags and without small sample correction\n",
       "  \"\"\",\n",
       "  'split_3_oos_r2': -2.089081832002268,\n",
       "  'split_3_oos_mae': 0.6622945724044149,\n",
       "  'split_3_oos_mse': 0.6704073365371628,\n",
       "  'split_3_oos_rmse': 0.8187840597722715,\n",
       "  'split_3_oos_mape': 228.04894172212778},\n",
       "                    y  split_1_y_fitted  split_1_y_pred  split_2_y_fitted  \\\n",
       " date                                                                       \n",
       " 2005-01-31  0.876095               NaN             NaN               NaN   \n",
       " 2005-02-28  0.000000               0.0             NaN               NaN   \n",
       " 2005-03-31 -0.372208               0.0             NaN               NaN   \n",
       " 2005-04-30  1.245330               0.0             NaN               NaN   \n",
       " 2005-05-31 -0.369004               0.0             NaN               NaN   \n",
       " ...              ...               ...             ...               ...   \n",
       " 2022-11-30  0.097943               NaN             NaN               NaN   \n",
       " 2022-12-31 -0.293542               NaN             NaN               NaN   \n",
       " 2023-01-31  0.490677               NaN             NaN               NaN   \n",
       " 2023-02-28  0.195312               NaN             NaN               NaN   \n",
       " 2023-03-31 -0.292398               NaN             NaN               NaN   \n",
       " \n",
       "             split_2_y_pred  split_3_y_fitted  split_3_y_pred  \n",
       " date                                                          \n",
       " 2005-01-31             NaN               NaN             NaN  \n",
       " 2005-02-28             NaN               NaN             NaN  \n",
       " 2005-03-31             NaN               NaN             NaN  \n",
       " 2005-04-30             NaN               NaN             NaN  \n",
       " 2005-05-31             NaN               NaN             NaN  \n",
       " ...                    ...               ...             ...  \n",
       " 2022-11-30             NaN               NaN        0.673278  \n",
       " 2022-12-31             NaN               NaN       -1.160821  \n",
       " 2023-01-31             NaN               NaN        0.944277  \n",
       " 2023-02-28             NaN               NaN        1.637106  \n",
       " 2023-03-31             NaN               NaN       -0.120339  \n",
       " \n",
       " [219 rows x 7 columns])"
      ]
     },
     "execution_count": 186,
     "metadata": {},
     "output_type": "execute_result"
    }
   ],
   "source": [
    "df2"
   ]
  },
  {
   "cell_type": "code",
   "execution_count": 132,
   "id": "6a521060",
   "metadata": {
    "scrolled": true
   },
   "outputs": [],
   "source": [
    "df3 = df2[-1]"
   ]
  },
  {
   "cell_type": "code",
   "execution_count": 133,
   "id": "787287eb",
   "metadata": {},
   "outputs": [
    {
     "data": {
      "text/plain": [
       "<AxesSubplot:xlabel='date'>"
      ]
     },
     "execution_count": 133,
     "metadata": {},
     "output_type": "execute_result"
    },
    {
     "data": {
      "image/png": "[encoded data removed]",
      "text/plain": [
       "<Figure size 640x480 with 1 Axes>"
      ]
     },
     "metadata": {},
     "output_type": "display_data"
    }
   ],
   "source": [
    "df3.plot()"
   ]
  }
 ],
 "metadata": {
  "kernelspec": {
   "display_name": "Python 3 (ipykernel)",
   "language": "python",
   "name": "python3"
  },
  "language_info": {
   "codemirror_mode": {
    "name": "ipython",
    "version": 3
   },
   "file_extension": ".py",
   "mimetype": "text/x-python",
   "name": "python",
   "nbconvert_exporter": "python",
   "pygments_lexer": "ipython3",
   "version": "3.10.6"
  },
  "toc": {
   "base_numbering": 1,
   "nav_menu": {},
   "number_sections": true,
   "sideBar": true,
   "skip_h1_title": false,
   "title_cell": "Table of Contents",
   "title_sidebar": "Contents",
   "toc_cell": false,
   "toc_position": {},
   "toc_section_display": true,
   "toc_window_display": false
  }
 },
 "nbformat": 4,
 "nbformat_minor": 5
}
