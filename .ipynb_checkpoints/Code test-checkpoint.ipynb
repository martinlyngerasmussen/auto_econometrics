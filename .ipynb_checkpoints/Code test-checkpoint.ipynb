{
 "cells": [
  {
   "cell_type": "code",
   "execution_count": 17,
   "id": "c2a87d8b",
   "metadata": {},
   "outputs": [],
   "source": [
    "import pandas as pd\n",
    "import statsmodels.formula.api as sm\n",
    "from sklearn.linear_model import LinearRegression\n",
    "from sklearn.metrics import r2_score\n",
    "from sklearn.feature_selection import SequentialFeatureSelector\n",
    "from sklearn.model_selection import TimeSeriesSplit"
   ]
  },
  {
   "cell_type": "code",
   "execution_count": 40,
   "id": "c0ca21ed",
   "metadata": {},
   "outputs": [
    {
     "name": "stdout",
     "output_type": "stream",
     "text": [
      "The autoreload extension is already loaded. To reload it, use:\n",
      "  %reload_ext autoreload\n"
     ]
    }
   ],
   "source": [
    "from experimentation import data_preparation\n",
    "from experimentation import regression_OLS\n",
    "\n",
    "%load_ext autoreload\n",
    "%autoreload 2"
   ]
  },
  {
   "cell_type": "code",
   "execution_count": 41,
   "id": "b0d1ee92",
   "metadata": {
    "scrolled": true
   },
   "outputs": [],
   "source": [
    "df1 = data_preparation(file_location = \"uk_data.csv\", splits = 2, lags = 2)\n",
    "df2 = regression_OLS(file_location = \"uk_data.csv\", splits = 2, lags = 2, train_share = 0.8, p_cutoff = 0.05)"
   ]
  },
  {
   "cell_type": "code",
   "execution_count": 42,
   "id": "196c12d0",
   "metadata": {},
   "outputs": [],
   "source": [
    "list_ = list(df1.keys())"
   ]
  },
  {
   "cell_type": "code",
   "execution_count": 43,
   "id": "6a521060",
   "metadata": {
    "scrolled": true
   },
   "outputs": [
    {
     "data": {
      "text/plain": [
       "{'split_1_oos_r2': -0.030175893929288655,\n",
       " 'split_1_oos_mae': 0.5469667384393264,\n",
       " 'split_1_oos_mse': 0.4312336036327063,\n",
       " 'split_1_oos_rmse': 0.6566837927288188,\n",
       " 'split_1_oos_mape': inf,\n",
       " 'split_2_oos_r2': -0.27954754592252407,\n",
       " 'split_2_oos_mae': 0.46806445323974155,\n",
       " 'split_2_oos_mse': 0.35826661590295406,\n",
       " 'split_2_oos_rmse': 0.5985537702687654,\n",
       " 'split_2_oos_mape': 119.21303244913695}"
      ]
     },
     "execution_count": 43,
     "metadata": {},
     "output_type": "execute_result"
    }
   ],
   "source": [
    "df2"
   ]
  }
 ],
 "metadata": {
  "kernelspec": {
   "display_name": "Python 3 (ipykernel)",
   "language": "python",
   "name": "python3"
  },
  "language_info": {
   "codemirror_mode": {
    "name": "ipython",
    "version": 3
   },
   "file_extension": ".py",
   "mimetype": "text/x-python",
   "name": "python",
   "nbconvert_exporter": "python",
   "pygments_lexer": "ipython3",
   "version": "3.10.6"
  },
  "toc": {
   "base_numbering": 1,
   "nav_menu": {},
   "number_sections": true,
   "sideBar": true,
   "skip_h1_title": false,
   "title_cell": "Table of Contents",
   "title_sidebar": "Contents",
   "toc_cell": false,
   "toc_position": {},
   "toc_section_display": true,
   "toc_window_display": false
  }
 },
 "nbformat": 4,
 "nbformat_minor": 5
}
